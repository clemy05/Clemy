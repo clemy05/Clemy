{
 "cells": [
  {
   "cell_type": "code",
   "execution_count": 1,
   "id": "8bbd6af6",
   "metadata": {},
   "outputs": [
    {
     "ename": "FileNotFoundError",
     "evalue": "[WinError 3] The system cannot find the path specified: 'registered/'",
     "output_type": "error",
     "traceback": [
      "\u001b[1;31m---------------------------------------------------------------------------\u001b[0m",
      "\u001b[1;31mFileNotFoundError\u001b[0m                         Traceback (most recent call last)",
      "\u001b[1;32m<ipython-input-1-d61267763b29>\u001b[0m in \u001b[0;36m<module>\u001b[1;34m\u001b[0m\n\u001b[0;32m     11\u001b[0m \u001b[1;33m\u001b[0m\u001b[0m\n\u001b[0;32m     12\u001b[0m \u001b[0mregistered_faces_path\u001b[0m \u001b[1;33m=\u001b[0m \u001b[1;34m'registered/'\u001b[0m\u001b[1;33m\u001b[0m\u001b[1;33m\u001b[0m\u001b[0m\n\u001b[1;32m---> 13\u001b[1;33m \u001b[1;32mfor\u001b[0m \u001b[0mname\u001b[0m \u001b[1;32min\u001b[0m \u001b[0mos\u001b[0m\u001b[1;33m.\u001b[0m\u001b[0mlistdir\u001b[0m\u001b[1;33m(\u001b[0m\u001b[0mregistered_faces_path\u001b[0m\u001b[1;33m)\u001b[0m\u001b[1;33m:\u001b[0m\u001b[1;33m\u001b[0m\u001b[1;33m\u001b[0m\u001b[0m\n\u001b[0m\u001b[0;32m     14\u001b[0m     \u001b[0mimages_mask\u001b[0m \u001b[1;33m=\u001b[0m \u001b[1;34m'%s%s/*.jpg'\u001b[0m \u001b[1;33m%\u001b[0m \u001b[1;33m(\u001b[0m\u001b[0mregistered_faces_path\u001b[0m\u001b[1;33m,\u001b[0m \u001b[0mname\u001b[0m\u001b[1;33m)\u001b[0m\u001b[1;33m\u001b[0m\u001b[1;33m\u001b[0m\u001b[0m\n\u001b[0;32m     15\u001b[0m     \u001b[0mimages_paths\u001b[0m \u001b[1;33m=\u001b[0m \u001b[0mglob\u001b[0m\u001b[1;33m.\u001b[0m\u001b[0mglob\u001b[0m\u001b[1;33m(\u001b[0m\u001b[0mimages_mask\u001b[0m\u001b[1;33m)\u001b[0m\u001b[1;33m\u001b[0m\u001b[1;33m\u001b[0m\u001b[0m\n",
      "\u001b[1;31mFileNotFoundError\u001b[0m: [WinError 3] The system cannot find the path specified: 'registered/'"
     ]
    }
   ],
   "source": [
    "import cv2\n",
    "import face_recognition\n",
    "import os\n",
    "import glob\n",
    "\n",
    "vc = cv2.VideoCapture(0)\n",
    "\n",
    "known_faces = []\n",
    "known_names = []\n",
    "known_faces_paths = []\n",
    "\n",
    "registered_faces_path = 'registered/'\n",
    "for name in os.listdir(registered_faces_path):\n",
    "    images_mask = '%s%s/*.jpg' % (registered_faces_path, name)\n",
    "    images_paths = glob.glob(images_mask) \n",
    "    known_faces_paths += images_paths\n",
    "    known_names += [name for x in images_paths]\n",
    "\n",
    "def get_encodings(img_path):\n",
    "    image = face_recognition.load_image_file(img_path)\n",
    "    encoding = face_recognition.face_encodings(image)\n",
    "    return encoding[0]\n",
    "\n",
    "known_faces = [get_encodings(img_path) for img_path in known_faces_paths]\n",
    "\n",
    "\n",
    "while True:\n",
    "    ret, frame = vc.read()\n",
    "    if not ret:\n",
    "        break\n",
    "    frame_rgb = cv2.cvtColor(frame, cv2.COLOR_BGR2RGB)\n",
    "    faces = face_recognition.face_locations(frame_rgb)\n",
    "    for face in faces: # top, right, bottom, left\n",
    "        top, right, bottom, left = face\n",
    "        cv2.rectangle(frame, (left, top), (right, bottom),(0,0,255), 2)\n",
    "        face_code = face_recognition.face_encodings(frame_rgb, [face])[0]\n",
    "\n",
    "        results = face_recognition.compare_faces(known_faces, face_code, tolerance=0.6)\n",
    "        if any(results):\n",
    "            name = known_names[results.index(True)]\n",
    "        else:\n",
    "            name = 'unknown'\n",
    "        cv2.putText(frame, name, (left, bottom + 20), cv2.FONT_HERSHEY_PLAIN, 2, (0,0,255), 2)\n",
    "\n",
    "    cv2.imshow('winnie', frame)\n",
    "    k = cv2.waitKey(1)\n",
    "    if ord('q') == k:\n",
    "        break\n",
    "cv2.destroyAllWindows()\n",
    "vc.release()\n"
   ]
  },
  {
   "cell_type": "code",
   "execution_count": null,
   "id": "143543f6",
   "metadata": {},
   "outputs": [],
   "source": []
  },
  {
   "cell_type": "code",
   "execution_count": null,
   "id": "f48f8098",
   "metadata": {},
   "outputs": [],
   "source": []
  }
 ],
 "metadata": {
  "kernelspec": {
   "display_name": "Python 3",
   "language": "python",
   "name": "python3"
  },
  "language_info": {
   "codemirror_mode": {
    "name": "ipython",
    "version": 3
   },
   "file_extension": ".py",
   "mimetype": "text/x-python",
   "name": "python",
   "nbconvert_exporter": "python",
   "pygments_lexer": "ipython3",
   "version": "3.8.8"
  }
 },
 "nbformat": 4,
 "nbformat_minor": 5
}
